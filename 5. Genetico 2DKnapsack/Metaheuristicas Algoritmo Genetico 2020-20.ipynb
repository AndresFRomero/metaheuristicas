{
 "cells": [
  {
   "cell_type": "markdown",
   "metadata": {},
   "source": [
    "# Algoritmo genético simple\n",
    "\n",
    "Los Algoritmos Genéticos (AGs) son métodos adaptativos que pueden usarse para resolver problemas de búsqueda y optimización. Están basados en el proceso genético de los organismos vivos. A lo largo de las generaciones, las poblaciones evolucionan en la naturaleza de acorde con los principios de la selección natural y la supervivencia de los más fuertes, postulados por Darwin (1859). Por imitación de este proceso, los Algoritmos Genéticos son capaces de ir creando soluciones para problemas del mundo real. La evolución de dichas soluciones hacia valores óptimos del problema depende en buena medida de una adecuada codificación de las mismas. \n",
    "\n",
    "<img src= \"https://www.miguelvedoya.com/wp-content/uploads/2017/06/Proceso.png\">\n",
    "\n",
    "Tomado de http://www.sc.ehu.es/ccwbayes/docencia/mmcc/docs/temageneticos.pdf"
   ]
  },
  {
   "cell_type": "markdown",
   "metadata": {},
   "source": [
    "Los algoritmos geneticos simples constan de cuatro pasos: \n",
    "\n",
    "1. Población inicial\n",
    "2. Selección de padres\n",
    "3. Recombinación o crossover\n",
    "4. Mutación\n",
    "\n",
    "Según la codificación y el problema que se este solucionando se debe agregar un paso de **reparación**. Este paso es necesario para recuperar la factibilidad. \n",
    "\n",
    "<img src=\"https://i.ibb.co/HFyfmV6/Algoritmo-genetico.png\" alt=\"Algoritmo-genetico\" border=\"0\">\n",
    "\n",
    "Tomado de: **Glover, F. W., & Kochenberger, G. A. (Eds.). (2006). Handbook of metaheuristics (Vol. 57). Springer Science & Business Media.**"
   ]
  },
  {
   "cell_type": "markdown",
   "metadata": {},
   "source": [
    "# Problema de la mochila (Knapsack problem)\n",
    "\n",
    "<img src= \"https://upload.wikimedia.org/wikipedia/commons/thumb/f/fd/Knapsack.svg/220px-Knapsack.svg.png\">"
   ]
  },
  {
   "cell_type": "markdown",
   "metadata": {},
   "source": [
    "# Parámetros de prueba\n",
    "\n",
    "A continuación, se presentan los parámetros de prueba de nuestro problema de la mochila 0-1"
   ]
  },
  {
   "cell_type": "code",
   "execution_count": 1,
   "metadata": {},
   "outputs": [
    {
     "name": "stdout",
     "output_type": "stream",
     "text": [
      "Los beneficios de nuestros ítems son {0: 142, 1: 119, 2: 169, 3: 162, 4: 149, 5: 146, 6: 166, 7: 108, 8: 124, 9: 198, 10: 117, 11: 105, 12: 185, 13: 162, 14: 110, 15: 175, 16: 155, 17: 136, 18: 168, 19: 165}\n",
      "Los pesos de nuestros ítems son {0: 117, 1: 123, 2: 55, 3: 64, 4: 120, 5: 135, 6: 63, 7: 58, 8: 68, 9: 114, 10: 143, 11: 59, 12: 127, 13: 60, 14: 108, 15: 127, 16: 65, 17: 109, 18: 53, 19: 100}\n",
      "La capacidad de la mochila es 1121\n"
     ]
    }
   ],
   "source": [
    "import numpy as np #Vamos a utilizar la libreria numpy\n",
    "import operator #Paquete para ordenar un diccionario\n",
    "import time #Paquete para medir el tiempo computacional\n",
    "\n",
    "np.random.seed(18) \n",
    "\n",
    "n = 20 #Número de ítems a empacar\n",
    "v_i = {i:np.random.randint(100, 200) for i in range(n)} #beneficio del ítem i (valores entre 100 y 200)\n",
    "w_i = {i:np.random.randint(50, 150) for i in range(n)} #Peso del ítem i (valores entre 50 y 100)\n",
    "W = round(sum(w_i.values())*0.6) #Peso máximo de la mochila\n",
    "print(f\"Los beneficios de nuestros ítems son {v_i}\")\n",
    "print(f\"Los pesos de nuestros ítems son {w_i}\")\n",
    "print(f\"La capacidad de la mochila es {W}\")"
   ]
  },
  {
   "cell_type": "code",
   "execution_count": 2,
   "metadata": {},
   "outputs": [],
   "source": [
    "def actualizo_incumbente(FO_Incumbente, Incumbente, Peso_Incumbente, FO, solucion, Peso_sol):\n",
    "    \n",
    "    if FO > FO_Incumbente:\n",
    "        Incumbente = solucion.copy()\n",
    "        FO_Incumbente = FO\n",
    "        Peso_Incumbente = Peso_sol\n",
    "        \n",
    "    return FO_Incumbente, Incumbente, Peso_Incumbente"
   ]
  },
  {
   "cell_type": "markdown",
   "metadata": {},
   "source": [
    "# Codificación\n",
    "\n",
    "El problema de la mochila 0-1 puede ser codificado con un vector de tamaño $n$. La posición del vector corresponde al tipo de ítem y el contenido de la posición (0 o 1) indica si ese ítem se agrega o no a la mochila.\n",
    "\n",
    "<img src=\"https://i.ibb.co/02bjnbB/Codificaci-n-Mochila.png\" alt=\"Codificaci-n-Mochila\" border=\"0\">"
   ]
  },
  {
   "cell_type": "markdown",
   "metadata": {},
   "source": [
    "# 1. Población inicial\n",
    "\n",
    "El primer paso del algoritmo generico simple consiste en generar la población inicial de individuos. El tamaño de la población estará definido por el parametro $Size$. Este parametro indica el numero de individuos que se van a crear de forma aleatoria. "
   ]
  },
  {
   "cell_type": "markdown",
   "metadata": {},
   "source": [
    "El siguiente código crea una población aleatoria de tamaño $Size$ y la respectiva incumbente."
   ]
  },
  {
   "cell_type": "code",
   "execution_count": 3,
   "metadata": {},
   "outputs": [],
   "source": [
    "def Crea_Poblacion(Size, n):\n",
    "    FO_Incumbente = -10 \n",
    "    Incumbente = []\n",
    "    Peso_Incumbente = 123\n",
    "    \n",
    "    Poblacion = []\n",
    "    FO_Poblacion = []\n",
    "    Peso_Poblacion = []\n",
    "    \n",
    "    for i in range(Size):\n",
    "        solucion = [0 for i in range(n)]\n",
    "        peso_total, FO = 0, 0\n",
    "        \n",
    "        for j in range(len(solucion)):\n",
    "            if np.random.rand() < 0.5 and (peso_total + w_i[j]) <= W:\n",
    "                solucion[j] = 1\n",
    "                peso_total+=w_i[j]\n",
    "                FO+=v_i[j]\n",
    "                \n",
    "        FO_Incumbente, Incumbente, Peso_Incumbente = actualizo_incumbente(FO_Incumbente, Incumbente, Peso_Incumbente, FO, solucion, peso_total)\n",
    "            \n",
    "        Poblacion.append(solucion)\n",
    "        FO_Poblacion.append(FO)\n",
    "        Peso_Poblacion.append(peso_total)\n",
    "        \n",
    "    return Poblacion, FO_Poblacion, Peso_Poblacion, Incumbente, FO_Incumbente, Peso_Incumbente"
   ]
  },
  {
   "cell_type": "markdown",
   "metadata": {},
   "source": [
    "Vamos a crear una población de 10 individuos"
   ]
  },
  {
   "cell_type": "code",
   "execution_count": 4,
   "metadata": {},
   "outputs": [],
   "source": [
    "Size = 10\n",
    "\n",
    "Poblacion, FO_Poblacion, Peso_Poblacion, Incumbente, FO_Incumbente, Peso_Incumbente = Crea_Poblacion(Size, n)"
   ]
  },
  {
   "cell_type": "code",
   "execution_count": 5,
   "metadata": {},
   "outputs": [
    {
     "name": "stdout",
     "output_type": "stream",
     "text": [
      "[[0, 1, 0, 1, 0, 1, 1, 1, 0, 0, 1, 0, 0, 0, 0, 1, 0, 0, 1, 1], [1, 0, 1, 1, 1, 1, 0, 1, 0, 0, 1, 0, 0, 0, 1, 0, 0, 1, 0, 1], [0, 1, 1, 0, 0, 0, 1, 0, 1, 1, 1, 1, 1, 1, 0, 0, 0, 0, 0, 1], [0, 1, 1, 1, 1, 1, 1, 1, 1, 1, 1, 0, 0, 0, 1, 0, 0, 0, 0, 0], [0, 0, 1, 0, 0, 1, 0, 0, 1, 0, 1, 1, 0, 1, 0, 1, 0, 1, 0, 0], [1, 1, 0, 1, 0, 0, 0, 1, 1, 1, 0, 0, 1, 0, 0, 0, 0, 1, 1, 0], [0, 0, 1, 1, 1, 0, 0, 0, 0, 1, 0, 1, 1, 1, 0, 0, 1, 1, 0, 0], [0, 0, 0, 0, 0, 0, 0, 1, 0, 1, 0, 1, 0, 0, 0, 0, 0, 0, 1, 0], [0, 1, 0, 0, 1, 1, 1, 1, 0, 1, 1, 1, 1, 1, 0, 0, 1, 0, 0, 0], [0, 0, 0, 0, 0, 1, 0, 0, 1, 0, 1, 1, 1, 1, 0, 0, 1, 1, 1, 0]]\n"
     ]
    }
   ],
   "source": [
    "print(Poblacion)"
   ]
  },
  {
   "cell_type": "code",
   "execution_count": 6,
   "metadata": {},
   "outputs": [
    {
     "name": "stdout",
     "output_type": "stream",
     "text": [
      "[1326, 1404, 1510, 1568, 1134, 1342, 1421, 579, 1610, 1298]\n"
     ]
    }
   ],
   "source": [
    "print(FO_Poblacion)"
   ]
  },
  {
   "cell_type": "code",
   "execution_count": 8,
   "metadata": {},
   "outputs": [
    {
     "name": "stdout",
     "output_type": "stream",
     "text": [
      "[0, 1, 0, 0, 1, 1, 1, 1, 0, 1, 1, 1, 1, 1, 0, 0, 1, 0, 0, 0]\n",
      "1610\n",
      "1067\n"
     ]
    }
   ],
   "source": [
    "print(Incumbente)\n",
    "print(FO_Incumbente)\n",
    "print(Peso_Incumbente)"
   ]
  },
  {
   "cell_type": "markdown",
   "metadata": {},
   "source": [
    "# Selección\n",
    "\n",
    "Cuando ya se tiene la población contruida se pasa a hacer la selección de los padres. En este caso probaremos dos tipos de selección.\n",
    "\n",
    "1. Selección por ruleta\n",
    "2. Selección por torneo\n",
    "\n",
    "Tomado de: http://sabia.tic.udc.es/mgestal/cv/aaggtutorial/node9.html"
   ]
  },
  {
   "cell_type": "markdown",
   "metadata": {},
   "source": [
    "# Selección por ruleta \n",
    "\n",
    "A cada uno de los individuos de la población se le asigna una parte proporcional a su ajuste de una ruleta, de tal forma que la suma de todos los porcentajes sea la unidad. Los mejores individuos recibirán una porción de la ruleta mayor que la recibida por los peores. Generalmente la población está ordenada en base al ajuste por lo que las porciones más grandes se encuentran al inicio de la ruleta. Para seleccionar un individuo basta con generar un número aleatorio del intervalo [0..1] y devolver el individuo situado en esa posición de la ruleta. Esta posición se suele obtener recorriendo los individuos de la población y acumulando sus proporciones de ruleta hasta que la suma exceda el valor obtenido.\n",
    "\n",
    "Es un método muy sencillo, pero ineficiente a medida que aumenta el tamaño de la población (su complejidad es $ O(n^2)$). Presenta además el inconveniente de que el peor individuo puede ser seleccionado más de una vez.\n",
    "\n",
    "En mucha bibliografía se suele referenciar a este método con el nombre de Selección de Montecarlo."
   ]
  },
  {
   "cell_type": "code",
   "execution_count": 9,
   "metadata": {},
   "outputs": [],
   "source": [
    "Total = sum(FO_Poblacion)\n",
    "FO_Poblacion_porc = {i : FO_Poblacion[i]/Total for i in range(len(FO_Poblacion))}\n",
    "orden = sorted(FO_Poblacion_porc.items(), key=operator.itemgetter(1), reverse=True)\n",
    "\n",
    "def Seleccion_ruleta(orden):\n",
    "    index = []\n",
    "    for i in range(2):  \n",
    "        aleatorio = np.random.rand()\n",
    "        ayuda = 0.0\n",
    "        for i in orden:\n",
    "            ayuda+=i[1]\n",
    "            if aleatorio <= ayuda and i[0] not in index:\n",
    "                index.append(i[0])\n",
    "                break\n",
    "    return index"
   ]
  },
  {
   "cell_type": "code",
   "execution_count": 10,
   "metadata": {},
   "outputs": [
    {
     "name": "stdout",
     "output_type": "stream",
     "text": [
      "Los cromosomas seleccionados por la ruleta son [8, 2]\n"
     ]
    }
   ],
   "source": [
    "Index_ruleta = Seleccion_ruleta(orden)\n",
    "print(f\"Los cromosomas seleccionados por la ruleta son {Index_ruleta}\")"
   ]
  },
  {
   "cell_type": "markdown",
   "metadata": {},
   "source": [
    "# Selección por torneo\n",
    "\n",
    "La idea principal de este método consiste en realizar la selección en base a comparaciones directas entre individuos. Existen dos versiones de selección mediante torneo:\n",
    "\n",
    "1. Determinística\n",
    "2. Probabilística\n",
    "\n",
    "En la versión determinística se selecciona al azar un número p de individuos (generalmente se escoge $ p=2$). De entre los individuos seleccionados se selecciona el más apto para pasarlo a la siguiente generación.\n",
    "\n",
    "La versión probabilística únicamente se diferencia en el paso de selección del ganador del torneo. En vez de escoger siempre el mejor se genera un número aleatorio del intervalo [0..1], si es mayor que un parámetro p (fijado para todo el proceso evolutivo) se escoge el individuo más alto y en caso contrario el menos apto. Generalmente p toma valores en el rango $ 0.5 < p \\leq 1$.\n",
    "\n",
    "A continuación, haremos la selección por torneo determinística:"
   ]
  },
  {
   "cell_type": "code",
   "execution_count": 12,
   "metadata": {},
   "outputs": [],
   "source": [
    "def Seleccion_torneo(FO_Poblacion):\n",
    "    index = []\n",
    "    while len(index) < 2:\n",
    "        flag = True\n",
    "        while flag == True:\n",
    "            Padre1 = np.random.randint(len(FO_Poblacion))\n",
    "            Padre2 = np.random.randint(len(FO_Poblacion))\n",
    "            \n",
    "            if Padre1 != Padre2 and Padre1 not in index and Padre2 not in index:\n",
    "                if FO_Poblacion[Padre1] < FO_Poblacion[Padre2]:\n",
    "                    index.append(Padre2)\n",
    "                else:\n",
    "                    index.append(Padre1)\n",
    "                        \n",
    "                flag = False\n",
    "                \n",
    "    return index"
   ]
  },
  {
   "cell_type": "code",
   "execution_count": 13,
   "metadata": {},
   "outputs": [
    {
     "name": "stdout",
     "output_type": "stream",
     "text": [
      "Los cromosomas seleccionados por torneo son [8, 9]\n"
     ]
    }
   ],
   "source": [
    "Index_torneo = Seleccion_torneo(FO_Poblacion)\n",
    "print(f\"Los cromosomas seleccionados por torneo son {Index_torneo}\")"
   ]
  },
  {
   "cell_type": "markdown",
   "metadata": {},
   "source": [
    "# Recombinación o crosover\n",
    "\n",
    "Una vez seleccionados los individuos, éstos son recombinados para producir la descendencia que se insertará en la siguiente generación. La idea principal del cruce se basa en que, si se toman dos individuos correctamente adaptados al medio y se obtiene una descendencia que comparta genes de ambos, existe la posibilidad de que los genes heredados sean precisamente los causantes de la bondad de los padres. Al compartir las características buenas de dos individuos, la descendencia, o al menos parte de ella, debería tener una bondad mayor que cada uno de los padres por separado. Si el cruce no agrupa las mejores características en uno de los hijos y la descendencia tiene un peor ajuste que los padres no significa que se esté dando un paso atrás.\n",
    "\n",
    "A continuación se realizará **el Cruce de un solo punto**.\n",
    "\n",
    "Es la más sencilla de las técnicas de cruce. Una vez seleccionados dos individuos se cortan sus cromosomas por un punto seleccionado aleatoriamente para generar dos segmentos diferenciados en cada uno de ellos: la cabeza y la cola. Se intercambian las colas entre los dos individuos para generar los nuevos descendientes. \n",
    "\n",
    "<img src=\"https://i.ibb.co/LgMqBVK/Cruce1-Punto.png\" alt=\"Cruce1-Punto\" border=\"0\">"
   ]
  },
  {
   "cell_type": "code",
   "execution_count": 14,
   "metadata": {},
   "outputs": [],
   "source": [
    "def Cruce_1_punto(index, n):\n",
    "    Punto_quiebre = np.random.randint(1, n-1)\n",
    "    \n",
    "    Hijo_1 = list(Poblacion[index[0]][0:Punto_quiebre])\n",
    "    Hijo_1.extend(Poblacion[index[1]][Punto_quiebre:])\n",
    "    \n",
    "    Hijo_2 = list(Poblacion[index[1]][0:Punto_quiebre])\n",
    "    Hijo_2.extend(Poblacion[index[0]][Punto_quiebre:])\n",
    "    \n",
    "    return Hijo_1, Hijo_2"
   ]
  },
  {
   "cell_type": "code",
   "execution_count": 17,
   "metadata": {},
   "outputs": [
    {
     "name": "stdout",
     "output_type": "stream",
     "text": [
      "Padres\n",
      "[0, 1, 0, 0, 1, 1, 1, 1, 0, 1, 1, 1, 1, 1, 0, 0, 1, 0, 0, 0]\n",
      "[0, 1, 1, 0, 0, 0, 1, 0, 1, 1, 1, 1, 1, 1, 0, 0, 0, 0, 0, 1]\n",
      "Hijos\n",
      "[0, 1, 0, 0, 1, 1, 1, 1, 0, 1, 1, 1, 1, 1, 0, 0, 0, 0, 0, 1]\n",
      "[0, 1, 1, 0, 0, 0, 1, 0, 1, 1, 1, 1, 1, 1, 0, 0, 1, 0, 0, 0]\n"
     ]
    }
   ],
   "source": [
    "print(\"Padres\")\n",
    "for i in Index_ruleta:\n",
    "    print(Poblacion[i])\n",
    "\n",
    "Hijo_1, Hijo_2 = Cruce_1_punto(Index_ruleta,n)\n",
    "\n",
    "print(\"Hijos\")\n",
    "print(Hijo_1)\n",
    "print(Hijo_2)"
   ]
  },
  {
   "cell_type": "markdown",
   "metadata": {},
   "source": [
    "# Reparación \n",
    "\n",
    "Cuando realizamos el procedimiento de cruce puede que el peso de la mochila haya sido sobrepasado en las soluciones de los hijos. Para ello se crea una función de verificación y reparación. En caso de que se haya excedido la capacidad se sacan items de la mochila aleatoriamente hasta recuperar factibilidad. "
   ]
  },
  {
   "cell_type": "code",
   "execution_count": 18,
   "metadata": {},
   "outputs": [],
   "source": [
    "def verifico_y_reparo(solucion):\n",
    "    index_one=[]\n",
    "    peso_sol = 0\n",
    "    FO_sol = 0\n",
    "\n",
    "    for i in range(len(solucion)):\n",
    "        if solucion[i] == 1: \n",
    "            index_one.append(i)\n",
    "            peso_sol+=w_i[i]\n",
    "            FO_sol += v_i[i]\n",
    "    \n",
    "    if peso_sol <= W:\n",
    "        return solucion, peso_sol, FO_sol\n",
    "    else:\n",
    "        while peso_sol > W:\n",
    "            index_out = np.random.randint(len(index_one))\n",
    "            solucion[index_one[index_out]]=0\n",
    "            peso_sol-=w_i[index_one[index_out]]\n",
    "            FO_sol-=v_i[index_one[index_out]]\n",
    "            \n",
    "            index_one.remove(index_one[index_out])\n",
    "            \n",
    "        return solucion, peso_sol, FO_sol"
   ]
  },
  {
   "cell_type": "code",
   "execution_count": 19,
   "metadata": {},
   "outputs": [
    {
     "name": "stdout",
     "output_type": "stream",
     "text": [
      "[0, 1, 0, 0, 1, 1, 1, 1, 0, 1, 1, 1, 1, 1, 0, 0, 0, 0, 0, 1]\n",
      "[0, 1, 0, 0, 1, 1, 1, 1, 0, 1, 1, 1, 1, 1, 0, 0, 0, 0, 0, 1], 1102, 1620\n"
     ]
    }
   ],
   "source": [
    "print(Hijo_1)\n",
    "Hijo_1, Peso_H1, FO_H1 = verifico_y_reparo(Hijo_1)     \n",
    "print(F\"{Hijo_1}, {Peso_H1}, {FO_H1}\")"
   ]
  },
  {
   "cell_type": "markdown",
   "metadata": {},
   "source": [
    "# Mutación\n",
    "\n",
    "La mutación de un individuo provoca que alguno de sus genes, generalmente uno sólo, varíe su valor de forma aleatoria. En este caso vamos a seleccionar un ítem no empacado de forma aleatoria. En caso de sobrepasar la capacidad de la mochila se utiliza la función de reparación. "
   ]
  },
  {
   "cell_type": "code",
   "execution_count": 20,
   "metadata": {},
   "outputs": [],
   "source": [
    "def mutacion(solucion, peso, FO):\n",
    "    index_cero=[]\n",
    "    for i in range(len(solucion)):\n",
    "        if solucion[i] == 0: \n",
    "            index_cero.append(i)\n",
    "    index_in = np.random.randint(len(index_cero))\n",
    "    solucion[index_cero[index_in]]=1\n",
    "    peso+=w_i[index_cero[index_in]]\n",
    "    FO+=v_i[index_cero[index_in]]\n",
    "    \n",
    "    if peso > W:\n",
    "        solucion, peso, FO = verifico_y_reparo(solucion)\n",
    "        \n",
    "    return solucion, peso, FO"
   ]
  },
  {
   "cell_type": "code",
   "execution_count": 21,
   "metadata": {},
   "outputs": [
    {
     "name": "stdout",
     "output_type": "stream",
     "text": [
      "[0, 1, 0, 0, 1, 1, 1, 1, 0, 1, 1, 1, 1, 1, 0, 0, 0, 0, 0, 1], 1102, 1620\n",
      "[0, 1, 0, 0, 1, 1, 1, 1, 0, 1, 1, 1, 1, 0, 0, 0, 0, 0, 0, 1], 1042, 1458\n"
     ]
    }
   ],
   "source": [
    "print(F\"{Hijo_1}, {Peso_H1}, {FO_H1}\")\n",
    "Hijo_1, Peso_H1, FO_H1 = mutacion(Hijo_1, Peso_H1, FO_H1)\n",
    "print(F\"{Hijo_1}, {Peso_H1}, {FO_H1}\")"
   ]
  },
  {
   "cell_type": "markdown",
   "metadata": {},
   "source": [
    "# Algoritmo genético\n",
    "\n",
    "A continuación se presentan el código general del algoritmo genético simple con las función implementadas. "
   ]
  },
  {
   "cell_type": "code",
   "execution_count": 30,
   "metadata": {},
   "outputs": [
    {
     "name": "stdout",
     "output_type": "stream",
     "text": [
      "El beneficio de la mejor solución encontrada es 2152\n",
      "La mejor solución encontrada es [0, 0, 1, 1, 1, 0, 1, 1, 1, 1, 0, 1, 1, 1, 0, 0, 1, 1, 1, 1]\n",
      "El peso de la mochila es 1115\n",
      "Tiempo de cómputo del algoritmo genético es 0.14404 segundos\n"
     ]
    }
   ],
   "source": [
    "Ciclos_generacionales = 15 \n",
    "p_muta = 0.3 \n",
    "Size = 500\n",
    "\n",
    "Tiempo_inicio = time.time()\n",
    "\n",
    "Poblacion, FO_Poblacion, Peso_Poblacion, Incumbente, FO_Incumbente, Peso_Incumbente = Crea_Poblacion(Size, n) #Población inicial\n",
    "\n",
    "for i in range(Ciclos_generacionales):\n",
    "    New_Poblacion = []\n",
    "    New_FO_Poblacion = []\n",
    "    New_Peso_Poblacion = []\n",
    "\n",
    "    Total = sum(FO_Poblacion)\n",
    "    FO_Poblacion_porc = {i : FO_Poblacion[i]/Total for i in range(len(FO_Poblacion))}\n",
    "    orden = sorted(FO_Poblacion_porc.items(), key=operator.itemgetter(1), reverse=True) \n",
    "    \n",
    "    for j in range(int(Size/2)):\n",
    "        \n",
    "        if np.random.rand() <= 0.5:\n",
    "            Index_ruleta = Seleccion_ruleta(orden)\n",
    "            Hijo_1, Hijo_2 = Cruce_1_punto(Index_ruleta,n)\n",
    "        else:\n",
    "            Index_torneo = Seleccion_torneo(FO_Poblacion)\n",
    "            Hijo_1, Hijo_2 = Cruce_1_punto(Index_torneo,n)\n",
    "        \n",
    "        Hijo_1, Peso_H1, FO_H1 = verifico_y_reparo(Hijo_1)   \n",
    "        Hijo_2, Peso_H2, FO_H2 = verifico_y_reparo(Hijo_2)   \n",
    "        \n",
    "        \n",
    "        FO_Incumbente, Incumbente, Peso_Incumbente = actualizo_incumbente(FO_Incumbente, Incumbente, Peso_Incumbente, FO_H1, Hijo_1, Peso_H1)\n",
    "        FO_Incumbente, Incumbente, Peso_Incumbente = actualizo_incumbente(FO_Incumbente, Incumbente, Peso_Incumbente, FO_H2, Hijo_2, Peso_H2)\n",
    "        \n",
    "        if np.random.rand() <= p_muta:\n",
    "            Hijo_1, Peso_H1, FO_H1 = mutacion(Hijo_1, Peso_H1, FO_H1)\n",
    "            \n",
    "        if np.random.rand() <= p_muta:\n",
    "            Hijo_2, Peso_H2, FO_H2 = mutacion(Hijo_2, Peso_H2, FO_H2)\n",
    "            \n",
    "        FO_Incumbente, Incumbente, Peso_Incumbente = actualizo_incumbente(FO_Incumbente, Incumbente, Peso_Incumbente, FO_H1, Hijo_1, Peso_H1)\n",
    "        FO_Incumbente, Incumbente, Peso_Incumbente = actualizo_incumbente(FO_Incumbente, Incumbente, Peso_Incumbente, FO_H2, Hijo_2, Peso_H2)\n",
    "            \n",
    "        New_Poblacion.append(Hijo_1)\n",
    "        New_FO_Poblacion.append(FO_H1)\n",
    "        Peso_Poblacion.append(Peso_H1)\n",
    "        \n",
    "        New_Poblacion.append(Hijo_2)\n",
    "        New_FO_Poblacion.append(FO_H2)\n",
    "        Peso_Poblacion.append(Peso_H2)\n",
    "    \n",
    "    Poblacion = New_Poblacion.copy()\n",
    "    FO_Poblacion = New_FO_Poblacion.copy()\n",
    "    \n",
    "Tiempo_fin =time.time()-Tiempo_inicio\n",
    "\n",
    "        \n",
    "print(f\"El beneficio de la mejor solución encontrada es {FO_Incumbente}\")\n",
    "print(f\"La mejor solución encontrada es {Incumbente}\")\n",
    "print(f\"El peso de la mochila es {Peso_Incumbente}\")\n",
    "print(f\"Tiempo de cómputo del algoritmo genético es {round(Tiempo_fin,5)} segundos\")"
   ]
  },
  {
   "cell_type": "markdown",
   "metadata": {},
   "source": [
    "En el siguiente código se encuentra el algoritmo constructivo"
   ]
  },
  {
   "cell_type": "markdown",
   "metadata": {},
   "source": [
    "# Implementación modelo matemático\n",
    "\n",
    "A continuación se presentan la implementación del problema de mochila 0-1 en Pulp"
   ]
  },
  {
   "cell_type": "code",
   "execution_count": 31,
   "metadata": {},
   "outputs": [
    {
     "name": "stdout",
     "output_type": "stream",
     "text": [
      "Beneficio total = 2152.0$\n",
      "Tiempo de cómputo del modelo matemático 0.08548 segundos\n",
      "[0. 0. 1. 1. 1. 0. 1. 1. 1. 1. 0. 1. 1. 1. 0. 0. 1. 1. 1. 1.]\n"
     ]
    }
   ],
   "source": [
    "#!pip install PuLP\n",
    "import pulp as lp\n",
    "\n",
    "solucion_MIP = np.zeros(n)\n",
    "\n",
    "Tiempo_inicio = time.time()\n",
    "I = range(n)\n",
    "prob = lp.LpProblem(\"Knapsack\",lp.LpMaximize)\n",
    "\n",
    "x=lp.LpVariable.dicts(\"x_var\", [i for i in I], lowBound=0,upBound=1,cat=\"Integer\")\n",
    "prob += lp.lpSum(w_i[i]*x[i] for i in I) <= W, \"Capacidad\"\n",
    "prob += lp.lpSum(v_i[i]*x[i] for i in I), \"OF\"\n",
    "prob.solve()\n",
    "Tiempo_fin =time.time()-Tiempo_inicio\n",
    "    \n",
    "print(\"Beneficio total = \"+str(lp.value(prob.objective))+\"$\")\n",
    "print(f\"Tiempo de cómputo del modelo matemático {round(Tiempo_fin,5)} segundos\")\n",
    "FO_MIP = lp.value(prob.objective)\n",
    "for i in I:\n",
    "    if x[(i)].varValue > 0:\n",
    "        solucion_MIP[i] = 1\n",
    "        #print(f'Paquete {i}: ' + str(x[(i)].varValue))\n",
    "print(solucion_MIP)"
   ]
  }
 ],
 "metadata": {
  "kernelspec": {
   "display_name": "Python 3",
   "language": "python",
   "name": "python3"
  },
  "language_info": {
   "codemirror_mode": {
    "name": "ipython",
    "version": 3
   },
   "file_extension": ".py",
   "mimetype": "text/x-python",
   "name": "python",
   "nbconvert_exporter": "python",
   "pygments_lexer": "ipython3",
   "version": "3.8.3"
  }
 },
 "nbformat": 4,
 "nbformat_minor": 2
}
