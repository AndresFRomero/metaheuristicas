{
 "cells": [
  {
   "cell_type": "markdown",
   "source": [
    "# Algoritmo de Búsqueda Binaria\n",
    "Dado un numero n, determinar si se encuentra en una lista y en caso de que si, retornar la posición"
   ],
   "metadata": {}
  },
  {
   "cell_type": "code",
   "execution_count": 27,
   "source": [
    "def busquedaBinaria(x: int, a: list, tam: int):\n",
    "    bajo = 0\n",
    "    alto = tam\n",
    "    find = False\n",
    "    while bajo <= alto:\n",
    "        mitad = int((bajo+alto)/2)\n",
    "        if x==a[mitad]:\n",
    "            return True, mitad\n",
    "        else:\n",
    "            if x<a[mitad]:\n",
    "                alto = mitad -1\n",
    "            else:\n",
    "                bajo = mitad +1\n",
    "    return find, '-1'\n",
    "\n",
    "print(busquedaBinaria(3, [2,5,8], 2))"
   ],
   "outputs": [
    {
     "output_type": "stream",
     "name": "stdout",
     "text": [
      "(False, '-1')\n"
     ]
    }
   ],
   "metadata": {}
  },
  {
   "cell_type": "code",
   "execution_count": 28,
   "source": [
    "def binariaRecursiva( x: int, a: list, inicio: int, fin: int ):\n",
    "    if inicio > fin:\n",
    "        return False, '-1'\n",
    "    else:\n",
    "        medio = int((inicio+fin)/2)\n",
    "        if (a[medio] < x):\n",
    "            return binariaRecursiva(x,a,medio+1,fin)\n",
    "        else:\n",
    "            if (a[medio] > x):\n",
    "                return binariaRecursiva(x,a,inicio,medio-1)\n",
    "            else:\n",
    "                return True, medio\n",
    "\n",
    "print(binariaRecursiva(8, [2,5,8],0, 2))"
   ],
   "outputs": [
    {
     "output_type": "stream",
     "name": "stdout",
     "text": [
      "1 -\n",
      "2 -\n",
      "(True, 2)\n"
     ]
    }
   ],
   "metadata": {}
  }
 ],
 "metadata": {
  "orig_nbformat": 4,
  "language_info": {
   "name": "python",
   "version": "3.8.10",
   "mimetype": "text/x-python",
   "codemirror_mode": {
    "name": "ipython",
    "version": 3
   },
   "pygments_lexer": "ipython3",
   "nbconvert_exporter": "python",
   "file_extension": ".py"
  },
  "kernelspec": {
   "name": "python3",
   "display_name": "Python 3.8.10 64-bit"
  },
  "interpreter": {
   "hash": "916dbcbb3f70747c44a77c7bcd40155683ae19c65e1c03b4aa3499c5328201f1"
  }
 },
 "nbformat": 4,
 "nbformat_minor": 2
}