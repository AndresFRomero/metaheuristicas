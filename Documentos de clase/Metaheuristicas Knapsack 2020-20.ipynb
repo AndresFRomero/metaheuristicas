{
 "cells": [
  {
   "cell_type": "markdown",
   "metadata": {},
   "source": [
    "# Problema de la mochila (Knapsack problem)\n",
    "\n",
    "<img src= \"https://upload.wikimedia.org/wikipedia/commons/thumb/f/fd/Knapsack.svg/220px-Knapsack.svg.png\">\n",
    "\n",
    "El problema de la mochila es uno de los 21 problemas NP-completos de Richard Karp. https://es.wikipedia.org/wiki/Lista_de_21_problemas_NP-completos_de_Karp\n",
    "\n",
    "El problema de la mochila se define de la siguiente manera. \n",
    "\n",
    "Supongamos que tenemos $n$ distintos tipos de ítems, que van del 1 al $n$. De cada tipo de ítem se tienen $q_{i}$ ítems disponibles, donde $q_{i}$ es un entero positivo que cumple $1 \\leq q_{i}<\\infty$. \n",
    "\n",
    "Cada tipo de ítem $i$ tiene un beneficio asociado dado por $v_{i}$ y un peso (o volumen) $w_{i}$. Usualmente se asume que el beneficio y el peso no son negativos. \n",
    "\n",
    "Por otro lado, se tiene una mochila, donde se pueden introducir los ítems, que soporta un peso máximo (o volumen máximo) de $W$.\n",
    "\n",
    "El problema consiste en meter en la mochila ítems de tal forma que se maximice el valor de los ítems que contiene, siempre y cuando **NO** se supere el peso (o volumen) máximo que puede soportar la misma. La solución al problema vendrá dado por la secuencia de variables $x_{1}, x_{2}, ..., x_{n}$ donde el valor de $x_{i}$ indica cuantas copias se meterán en la mochila del tipo de ítem i. \n",
    "\n",
    "Si $q_{i}=1$ para $i=1,2,...,n$ se dice que se trata del problema de la mochila 0-1. El modelo matemático del problema de la mochila 0-1 se presenta a continuación:\n",
    "\n",
    "<img src= \"https://wikimedia.org/api/rest_v1/media/math/render/svg/3431bfbe8d7b5adccd5294549bf55fdbf1362ed3\">\n",
    "\n",
    "Tomado de https://es.wikipedia.org/wiki/Problema_de_la_mochila"
   ]
  },
  {
   "cell_type": "markdown",
   "metadata": {},
   "source": [
    "# Parámetros de prueba\n",
    "\n",
    "A continuación, se presentan los parámetros de prueba de nuestro problema de la mochila 0-1"
   ]
  },
  {
   "cell_type": "code",
   "execution_count": null,
   "metadata": {},
   "outputs": [],
   "source": [
    "import numpy as np #Vamos a utilizar la libreria numpy\n",
    "import operator #Paquete para ordenar un diccionario\n",
    "import time #Paquete para medir el tiempo computacional\n",
    "\n",
    "np.random.seed(5) \n",
    "\n",
    "n = 20 #Número de ítems a empacar\n",
    "v_i = {i:np.random.randint(100, 200) for i in range(n)} #beneficio del ítem i (valores entre 100 y 200)\n",
    "w_i = {i:np.random.randint(50, 150) for i in range(n)} #Peso del ítem i (valores entre 50 y 100)\n",
    "W = round(sum(w_i.values())*0.6) #Peso máximo de la mochila\n",
    "print(f\"Los beneficios de nuestros ítems son {v_i}\")\n",
    "print(f\"Los pesos de nuestros ítems son {w_i}\")\n",
    "print(f\"La capacidad de la mochila es {W}\")"
   ]
  },
  {
   "cell_type": "markdown",
   "metadata": {},
   "source": [
    "# Codificación\n",
    "\n",
    "El problema de la mochila 0-1 puede ser codificado con un vector de tamaño $n$. La posición del vector corresponde al tipo de ítem y el contenido de la posición (0 o 1) indica si ese ítem se agrega o no a la mochila.\n",
    "\n",
    "<img src=\"https://i.ibb.co/02bjnbB/Codificaci-n-Mochila.png\" alt=\"Codificaci-n-Mochila\" border=\"0\">"
   ]
  },
  {
   "cell_type": "markdown",
   "metadata": {},
   "source": [
    "# Algoritmo constructivo \n",
    "\n",
    "Hoy veremos un algoritmo constructivo para el problema de la mochila 0-1. El algoritmo consiste en ordenar los ítems bajo algún criterio. Luego, iremos agregando uno a uno los ítems a la mochila según el orden encontrado hasta que no quepa ningún ítem en la mochila. Utilizaremos dos criterios de decisión: \n",
    "\n",
    "1. Ordenar tomando como referencia el beneficio ($v_{i})$\n",
    "\n",
    "2. Ordenar tomando como referencia la razón beneficio/peso ($v_{i}/w_{i})$"
   ]
  },
  {
   "cell_type": "markdown",
   "metadata": {},
   "source": [
    "El siguiente código ordena los datos de prueba según el criterio seleccionado"
   ]
  },
  {
   "cell_type": "code",
   "execution_count": null,
   "metadata": {},
   "outputs": [],
   "source": [
    "criterio = 1 #Marque 0 para utilizar el criterio de beneficio \n",
    "             #Marque 1 para el criterio de beneficio/peso\n",
    "\n",
    "if criterio == 0:\n",
    "    \n",
    "    orden = sorted(v_i.items(), key=operator.itemgetter(1), reverse=True) \n",
    "    print(orden)\n",
    "    \n",
    "elif criterio == 1:\n",
    "    \n",
    "    razon_i = {i:v_i[i]/w_i[i] for i in range(n)}\n",
    "    orden = sorted(razon_i.items(), key=operator.itemgetter(1), reverse=True)\n",
    "    print(orden)\n",
    "    \n",
    "else:\n",
    "    \n",
    "    print(\"No existe ese criterio\")"
   ]
  },
  {
   "cell_type": "markdown",
   "metadata": {},
   "source": [
    "En el siguiente código se encuentra el algoritmo constructivo"
   ]
  },
  {
   "cell_type": "code",
   "execution_count": null,
   "metadata": {},
   "outputs": [],
   "source": [
    "solucion = np.zeros(n) #Inicializa un vector de tamaño n con ceros\n",
    "print(solucion)\n",
    "\n",
    "peso_total, FO = 0, 0 \n",
    "\n",
    "#Aquí se verifican los artículos y se decide si entra o no a la mochila\n",
    "\n",
    "for i in orden:  \n",
    "    if peso_total + w_i[i[0]] <= W:\n",
    "        peso_total+=w_i[i[0]]\n",
    "        solucion[i[0]]=1\n",
    "        FO+=v_i[i[0]] \n",
    "        \n",
    "print(f\"El beneficio de la solución encontrada es {FO}\")\n",
    "print(f\"La solución encontrada es {solucion}\")\n",
    "print(f\"El peso de la mochila es {peso_total}\")"
   ]
  },
  {
   "cell_type": "markdown",
   "metadata": {},
   "source": [
    "# Búsqueda local\n",
    "\n",
    "Un algoritmo de búsqueda local para el problema de la mochila consiste en intercambiar un ítem que está dentro de la mochila por un ítem que esta fuera de la mochila. Se debe medir el intercambio verificando la capacidad de la mochila y si mejora o no el beneficio total. \n",
    "\n",
    "Hoy veremos cómo aplicar las filosofías de primera mejora y mejor mejora para este algoritmo de búsqueda local."
   ]
  },
  {
   "cell_type": "markdown",
   "metadata": {},
   "source": [
    "## Primera mejora\n",
    "\n",
    "La filosofía de \"primera mejora\" consiste en qué al encontrar un intercambio que mejore el beneficio total, actualizar la solución y comenzar de nuevo la búsqueda. La búsqueda termina cuando no se han realizado intercambios en la solución. "
   ]
  },
  {
   "cell_type": "code",
   "execution_count": null,
   "metadata": {},
   "outputs": [],
   "source": [
    "print(f\"Solucion inicial {solucion}, FO {FO}\")\n",
    "Tiempo_inicio = time.time()\n",
    "\n",
    "Movimientos = 0\n",
    "repite = True\n",
    "while repite == True:\n",
    "\n",
    "    Hubo_cambio = False\n",
    "\n",
    "    for i in range(n):\n",
    "        if solucion[i] == 1:\n",
    "            for j in range(n):\n",
    "                if solucion[j] == 0:\n",
    "                    cambio_FO = v_i[j] - v_i[i]\n",
    "                    peso_nuevo = peso_total + (w_i[j] -  w_i[i])\n",
    "\n",
    "                    if cambio_FO > 0 and peso_nuevo <= W: \n",
    "                        peso_total = peso_nuevo\n",
    "                        FO = FO + cambio_FO\n",
    "                        \n",
    "                        #print(f\"Entra el ìtem {j}\")\n",
    "                        #print(f\"Sale el ìtem {i}\")\n",
    "\n",
    "                        solucion[i]=0\n",
    "                        solucion[j]=1\n",
    "\n",
    "                        Hubo_cambio = True\n",
    "                        break\n",
    "\n",
    "            if Hubo_cambio == True:\n",
    "                break\n",
    "\n",
    "    if Hubo_cambio == True:\n",
    "        Movimientos+=1\n",
    "        repite = True\n",
    "    else:\n",
    "        repite = False \n",
    "        \n",
    "Tiempo_fin =time.time()-Tiempo_inicio\n",
    "\n",
    "print(f\"Solucion final {solucion}, FO {FO}\")\n",
    "print(f\"El peso de la mochila es {peso_total}\")\n",
    "print(f\"Número de movimientos requeridos para converger {Movimientos}\")\n",
    "print(f\"Tiempo de cómputo de la búsqueda local {round(Tiempo_fin,5)} segundos\")"
   ]
  },
  {
   "cell_type": "markdown",
   "metadata": {},
   "source": [
    "## Mejor mejora\n",
    "\n",
    "La filosofía de \"mejor mejora\" consiste en medir todos los posibles intercambios, ordenarlos de mayor a menor y realizar el intercambio que tenga el mayor incremento en el benecambio total de la mochila. La búsqueda termina cuando no se han encontrado mediciones que mejoren el beneficio total.  "
   ]
  },
  {
   "cell_type": "code",
   "execution_count": null,
   "metadata": {},
   "outputs": [],
   "source": [
    "print(f\"Solucion inicial {solucion}, FO {FO}\")\n",
    "\n",
    "Tiempo_inicio = time.time()\n",
    "Movimientos = 0\n",
    "repite = True\n",
    "while repite == True:\n",
    "    \n",
    "    Info = []\n",
    "    for i in range(n):\n",
    "        if solucion[i] == 1:\n",
    "            for j in range(n):\n",
    "                if solucion[j] == 0:\n",
    "                    cambio_FO = v_i[j] - v_i[i]\n",
    "                    peso_nuevo = peso_total + (w_i[j] -  w_i[i])\n",
    "\n",
    "                    if cambio_FO > 0 and peso_nuevo <= W:\n",
    "\n",
    "                        Info.append(((i,j), cambio_FO, peso_nuevo))\n",
    "    \n",
    "    if len(Info) > 0:\n",
    "        \n",
    "        Info_or = sorted(Info, key=lambda tup: tup[1])\n",
    "        \n",
    "        peso_total = Info_or[len(Info_or)-1][2]\n",
    "        FO = FO + Info_or[len(Info_or)-1][1]\n",
    "\n",
    "        solucion[Info_or[len(Info_or)-1][0][0]]=0\n",
    "        solucion[Info_or[len(Info_or)-1][0][1]]=1\n",
    "\n",
    "        #print(f\"Entra el ìtem {Info_or[len(Info_or)-1][0][1]}\")\n",
    "        #print(f\"Sale el ìtem {Info_or[len(Info_or)-1][0][0]}\")\n",
    "        \n",
    "        Movimientos+=1\n",
    "        \n",
    "        repite = True\n",
    "        \n",
    "    else:\n",
    "        repite = False\n",
    "        \n",
    "\n",
    "Tiempo_fin =time.time()-Tiempo_inicio\n",
    "\n",
    "print(f\"Solucion final {solucion}, FO {FO}\")\n",
    "print(f\"El peso de la mochila es {peso_total}\")\n",
    "print(f\"Número de movimientos requeridos para converger {Movimientos}\")\n",
    "print(f\"Tiempo de cómputo de la búsqueda local {round(Tiempo_fin,5)} segundos\")"
   ]
  },
  {
   "cell_type": "markdown",
   "metadata": {},
   "source": [
    "# Implementación modelo matemático\n",
    "\n",
    "A continuación se presenta la implementación del problema de mochila 0-1 en Pulp"
   ]
  },
  {
   "cell_type": "code",
   "execution_count": null,
   "metadata": {},
   "outputs": [],
   "source": [
    "!pip install PuLP"
   ]
  },
  {
   "cell_type": "code",
   "execution_count": null,
   "metadata": {},
   "outputs": [],
   "source": [
    "import pulp as lp\n",
    "\n",
    "solucion_MIP = np.zeros(n)\n",
    "\n",
    "Tiempo_inicio = time.time()\n",
    "I = range(n)\n",
    "prob = lp.LpProblem(\"Knapsack\",lp.LpMaximize)\n",
    "\n",
    "x=lp.LpVariable.dicts(\"x_var\", [i for i in I], lowBound=0,upBound=1,cat=\"Integer\")\n",
    "prob += lp.lpSum(w_i[i]*x[i] for i in I) <= W, \"Capacidad\"\n",
    "prob += lp.lpSum(v_i[i]*x[i] for i in I), \"OF\"\n",
    "prob.solve()\n",
    "Tiempo_fin =time.time()-Tiempo_inicio\n",
    "    \n",
    "print(\"Beneficio total = \"+str(lp.value(prob.objective))+\"$\")\n",
    "print(f\"Tiempo de cómputo del modelo matemático {round(Tiempo_fin,5)} segundos\")\n",
    "FO_MIP = lp.value(prob.objective)\n",
    "for i in I:\n",
    "    if x[(i)].varValue > 0:\n",
    "        solucion_MIP[i] = 1\n",
    "        #print(f'Paquete {i}: ' + str(x[(i)].varValue))\n",
    "print(solucion_MIP)"
   ]
  }
 ],
 "metadata": {
  "kernelspec": {
   "display_name": "Python 3",
   "language": "python",
   "name": "python3"
  },
  "language_info": {
   "codemirror_mode": {
    "name": "ipython",
    "version": 3
   },
   "file_extension": ".py",
   "mimetype": "text/x-python",
   "name": "python",
   "nbconvert_exporter": "python",
   "pygments_lexer": "ipython3",
   "version": "3.8.3"
  }
 },
 "nbformat": 4,
 "nbformat_minor": 2
}
